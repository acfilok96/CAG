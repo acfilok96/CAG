{
  "nbformat": 4,
  "nbformat_minor": 0,
  "metadata": {
    "colab": {
      "provenance": []
    },
    "kernelspec": {
      "name": "python3",
      "display_name": "Python 3"
    },
    "language_info": {
      "name": "python"
    },
    "widgets": {
      "application/vnd.jupyter.widget-state+json": {
        "f9719c4e4a5d4b46bfc6cddf295dc745": {
          "model_module": "@jupyter-widgets/controls",
          "model_name": "HBoxModel",
          "model_module_version": "1.5.0",
          "state": {
            "_dom_classes": [],
            "_model_module": "@jupyter-widgets/controls",
            "_model_module_version": "1.5.0",
            "_model_name": "HBoxModel",
            "_view_count": null,
            "_view_module": "@jupyter-widgets/controls",
            "_view_module_version": "1.5.0",
            "_view_name": "HBoxView",
            "box_style": "",
            "children": [
              "IPY_MODEL_b776c6bdb74848038474e20cfe44dfb5",
              "IPY_MODEL_7979b161f7024e00b57f3a2ab781f51d",
              "IPY_MODEL_15ec82e0fccd4b468eeed744439ffec5"
            ],
            "layout": "IPY_MODEL_ebb99573b20f45b4be1816912c2cdce5"
          }
        },
        "b776c6bdb74848038474e20cfe44dfb5": {
          "model_module": "@jupyter-widgets/controls",
          "model_name": "HTMLModel",
          "model_module_version": "1.5.0",
          "state": {
            "_dom_classes": [],
            "_model_module": "@jupyter-widgets/controls",
            "_model_module_version": "1.5.0",
            "_model_name": "HTMLModel",
            "_view_count": null,
            "_view_module": "@jupyter-widgets/controls",
            "_view_module_version": "1.5.0",
            "_view_name": "HTMLView",
            "description": "",
            "description_tooltip": null,
            "layout": "IPY_MODEL_218e9aa35d76443ba7c4cc869c2e10e4",
            "placeholder": "​",
            "style": "IPY_MODEL_7730ce7de78c48d7973de591813becf6",
            "value": "config.json: 100%"
          }
        },
        "7979b161f7024e00b57f3a2ab781f51d": {
          "model_module": "@jupyter-widgets/controls",
          "model_name": "FloatProgressModel",
          "model_module_version": "1.5.0",
          "state": {
            "_dom_classes": [],
            "_model_module": "@jupyter-widgets/controls",
            "_model_module_version": "1.5.0",
            "_model_name": "FloatProgressModel",
            "_view_count": null,
            "_view_module": "@jupyter-widgets/controls",
            "_view_module_version": "1.5.0",
            "_view_name": "ProgressView",
            "bar_style": "success",
            "description": "",
            "description_tooltip": null,
            "layout": "IPY_MODEL_a21eca26a84d4d608ab53a1c485fcb6d",
            "max": 877,
            "min": 0,
            "orientation": "horizontal",
            "style": "IPY_MODEL_6b7613ddb5f745978bfb5dbb8df24462",
            "value": 877
          }
        },
        "15ec82e0fccd4b468eeed744439ffec5": {
          "model_module": "@jupyter-widgets/controls",
          "model_name": "HTMLModel",
          "model_module_version": "1.5.0",
          "state": {
            "_dom_classes": [],
            "_model_module": "@jupyter-widgets/controls",
            "_model_module_version": "1.5.0",
            "_model_name": "HTMLModel",
            "_view_count": null,
            "_view_module": "@jupyter-widgets/controls",
            "_view_module_version": "1.5.0",
            "_view_name": "HTMLView",
            "description": "",
            "description_tooltip": null,
            "layout": "IPY_MODEL_ce9cd42121b34c9f8b87ae577236016b",
            "placeholder": "​",
            "style": "IPY_MODEL_c9bcef0209ac4bc9b85fcee241f883ee",
            "value": " 877/877 [00:00&lt;00:00, 45.2kB/s]"
          }
        },
        "ebb99573b20f45b4be1816912c2cdce5": {
          "model_module": "@jupyter-widgets/base",
          "model_name": "LayoutModel",
          "model_module_version": "1.2.0",
          "state": {
            "_model_module": "@jupyter-widgets/base",
            "_model_module_version": "1.2.0",
            "_model_name": "LayoutModel",
            "_view_count": null,
            "_view_module": "@jupyter-widgets/base",
            "_view_module_version": "1.2.0",
            "_view_name": "LayoutView",
            "align_content": null,
            "align_items": null,
            "align_self": null,
            "border": null,
            "bottom": null,
            "display": null,
            "flex": null,
            "flex_flow": null,
            "grid_area": null,
            "grid_auto_columns": null,
            "grid_auto_flow": null,
            "grid_auto_rows": null,
            "grid_column": null,
            "grid_gap": null,
            "grid_row": null,
            "grid_template_areas": null,
            "grid_template_columns": null,
            "grid_template_rows": null,
            "height": null,
            "justify_content": null,
            "justify_items": null,
            "left": null,
            "margin": null,
            "max_height": null,
            "max_width": null,
            "min_height": null,
            "min_width": null,
            "object_fit": null,
            "object_position": null,
            "order": null,
            "overflow": null,
            "overflow_x": null,
            "overflow_y": null,
            "padding": null,
            "right": null,
            "top": null,
            "visibility": null,
            "width": null
          }
        },
        "218e9aa35d76443ba7c4cc869c2e10e4": {
          "model_module": "@jupyter-widgets/base",
          "model_name": "LayoutModel",
          "model_module_version": "1.2.0",
          "state": {
            "_model_module": "@jupyter-widgets/base",
            "_model_module_version": "1.2.0",
            "_model_name": "LayoutModel",
            "_view_count": null,
            "_view_module": "@jupyter-widgets/base",
            "_view_module_version": "1.2.0",
            "_view_name": "LayoutView",
            "align_content": null,
            "align_items": null,
            "align_self": null,
            "border": null,
            "bottom": null,
            "display": null,
            "flex": null,
            "flex_flow": null,
            "grid_area": null,
            "grid_auto_columns": null,
            "grid_auto_flow": null,
            "grid_auto_rows": null,
            "grid_column": null,
            "grid_gap": null,
            "grid_row": null,
            "grid_template_areas": null,
            "grid_template_columns": null,
            "grid_template_rows": null,
            "height": null,
            "justify_content": null,
            "justify_items": null,
            "left": null,
            "margin": null,
            "max_height": null,
            "max_width": null,
            "min_height": null,
            "min_width": null,
            "object_fit": null,
            "object_position": null,
            "order": null,
            "overflow": null,
            "overflow_x": null,
            "overflow_y": null,
            "padding": null,
            "right": null,
            "top": null,
            "visibility": null,
            "width": null
          }
        },
        "7730ce7de78c48d7973de591813becf6": {
          "model_module": "@jupyter-widgets/controls",
          "model_name": "DescriptionStyleModel",
          "model_module_version": "1.5.0",
          "state": {
            "_model_module": "@jupyter-widgets/controls",
            "_model_module_version": "1.5.0",
            "_model_name": "DescriptionStyleModel",
            "_view_count": null,
            "_view_module": "@jupyter-widgets/base",
            "_view_module_version": "1.2.0",
            "_view_name": "StyleView",
            "description_width": ""
          }
        },
        "a21eca26a84d4d608ab53a1c485fcb6d": {
          "model_module": "@jupyter-widgets/base",
          "model_name": "LayoutModel",
          "model_module_version": "1.2.0",
          "state": {
            "_model_module": "@jupyter-widgets/base",
            "_model_module_version": "1.2.0",
            "_model_name": "LayoutModel",
            "_view_count": null,
            "_view_module": "@jupyter-widgets/base",
            "_view_module_version": "1.2.0",
            "_view_name": "LayoutView",
            "align_content": null,
            "align_items": null,
            "align_self": null,
            "border": null,
            "bottom": null,
            "display": null,
            "flex": null,
            "flex_flow": null,
            "grid_area": null,
            "grid_auto_columns": null,
            "grid_auto_flow": null,
            "grid_auto_rows": null,
            "grid_column": null,
            "grid_gap": null,
            "grid_row": null,
            "grid_template_areas": null,
            "grid_template_columns": null,
            "grid_template_rows": null,
            "height": null,
            "justify_content": null,
            "justify_items": null,
            "left": null,
            "margin": null,
            "max_height": null,
            "max_width": null,
            "min_height": null,
            "min_width": null,
            "object_fit": null,
            "object_position": null,
            "order": null,
            "overflow": null,
            "overflow_x": null,
            "overflow_y": null,
            "padding": null,
            "right": null,
            "top": null,
            "visibility": null,
            "width": null
          }
        },
        "6b7613ddb5f745978bfb5dbb8df24462": {
          "model_module": "@jupyter-widgets/controls",
          "model_name": "ProgressStyleModel",
          "model_module_version": "1.5.0",
          "state": {
            "_model_module": "@jupyter-widgets/controls",
            "_model_module_version": "1.5.0",
            "_model_name": "ProgressStyleModel",
            "_view_count": null,
            "_view_module": "@jupyter-widgets/base",
            "_view_module_version": "1.2.0",
            "_view_name": "StyleView",
            "bar_color": null,
            "description_width": ""
          }
        },
        "ce9cd42121b34c9f8b87ae577236016b": {
          "model_module": "@jupyter-widgets/base",
          "model_name": "LayoutModel",
          "model_module_version": "1.2.0",
          "state": {
            "_model_module": "@jupyter-widgets/base",
            "_model_module_version": "1.2.0",
            "_model_name": "LayoutModel",
            "_view_count": null,
            "_view_module": "@jupyter-widgets/base",
            "_view_module_version": "1.2.0",
            "_view_name": "LayoutView",
            "align_content": null,
            "align_items": null,
            "align_self": null,
            "border": null,
            "bottom": null,
            "display": null,
            "flex": null,
            "flex_flow": null,
            "grid_area": null,
            "grid_auto_columns": null,
            "grid_auto_flow": null,
            "grid_auto_rows": null,
            "grid_column": null,
            "grid_gap": null,
            "grid_row": null,
            "grid_template_areas": null,
            "grid_template_columns": null,
            "grid_template_rows": null,
            "height": null,
            "justify_content": null,
            "justify_items": null,
            "left": null,
            "margin": null,
            "max_height": null,
            "max_width": null,
            "min_height": null,
            "min_width": null,
            "object_fit": null,
            "object_position": null,
            "order": null,
            "overflow": null,
            "overflow_x": null,
            "overflow_y": null,
            "padding": null,
            "right": null,
            "top": null,
            "visibility": null,
            "width": null
          }
        },
        "c9bcef0209ac4bc9b85fcee241f883ee": {
          "model_module": "@jupyter-widgets/controls",
          "model_name": "DescriptionStyleModel",
          "model_module_version": "1.5.0",
          "state": {
            "_model_module": "@jupyter-widgets/controls",
            "_model_module_version": "1.5.0",
            "_model_name": "DescriptionStyleModel",
            "_view_count": null,
            "_view_module": "@jupyter-widgets/base",
            "_view_module_version": "1.2.0",
            "_view_name": "StyleView",
            "description_width": ""
          }
        },
        "d9b8fe2fcd8c4fe2922e659f400176b6": {
          "model_module": "@jupyter-widgets/controls",
          "model_name": "HBoxModel",
          "model_module_version": "1.5.0",
          "state": {
            "_dom_classes": [],
            "_model_module": "@jupyter-widgets/controls",
            "_model_module_version": "1.5.0",
            "_model_name": "HBoxModel",
            "_view_count": null,
            "_view_module": "@jupyter-widgets/controls",
            "_view_module_version": "1.5.0",
            "_view_name": "HBoxView",
            "box_style": "",
            "children": [
              "IPY_MODEL_b2d60b7d57fc49afa39d8271e240c16c",
              "IPY_MODEL_c6d24e53bd8e40c49a5d5c1d349af50e",
              "IPY_MODEL_89436f888b794c6ca9e1b4d720d8d035"
            ],
            "layout": "IPY_MODEL_407710c9713042b88d251f6c58200b4a"
          }
        },
        "b2d60b7d57fc49afa39d8271e240c16c": {
          "model_module": "@jupyter-widgets/controls",
          "model_name": "HTMLModel",
          "model_module_version": "1.5.0",
          "state": {
            "_dom_classes": [],
            "_model_module": "@jupyter-widgets/controls",
            "_model_module_version": "1.5.0",
            "_model_name": "HTMLModel",
            "_view_count": null,
            "_view_module": "@jupyter-widgets/controls",
            "_view_module_version": "1.5.0",
            "_view_name": "HTMLView",
            "description": "",
            "description_tooltip": null,
            "layout": "IPY_MODEL_086ffffba0bd468daa86d39d3bb661de",
            "placeholder": "​",
            "style": "IPY_MODEL_27dc4161099047b88c079e69c627f6d5",
            "value": "model.safetensors: 100%"
          }
        },
        "c6d24e53bd8e40c49a5d5c1d349af50e": {
          "model_module": "@jupyter-widgets/controls",
          "model_name": "FloatProgressModel",
          "model_module_version": "1.5.0",
          "state": {
            "_dom_classes": [],
            "_model_module": "@jupyter-widgets/controls",
            "_model_module_version": "1.5.0",
            "_model_name": "FloatProgressModel",
            "_view_count": null,
            "_view_module": "@jupyter-widgets/controls",
            "_view_module_version": "1.5.0",
            "_view_name": "ProgressView",
            "bar_style": "success",
            "description": "",
            "description_tooltip": null,
            "layout": "IPY_MODEL_ef65ef5377744f6f800c175772c034db",
            "max": 2471645608,
            "min": 0,
            "orientation": "horizontal",
            "style": "IPY_MODEL_836a0e8f0a0447d78dfedfff4c2be7cd",
            "value": 2471645608
          }
        },
        "89436f888b794c6ca9e1b4d720d8d035": {
          "model_module": "@jupyter-widgets/controls",
          "model_name": "HTMLModel",
          "model_module_version": "1.5.0",
          "state": {
            "_dom_classes": [],
            "_model_module": "@jupyter-widgets/controls",
            "_model_module_version": "1.5.0",
            "_model_name": "HTMLModel",
            "_view_count": null,
            "_view_module": "@jupyter-widgets/controls",
            "_view_module_version": "1.5.0",
            "_view_name": "HTMLView",
            "description": "",
            "description_tooltip": null,
            "layout": "IPY_MODEL_5bcd33cbfa3f486d85683d2b987a1421",
            "placeholder": "​",
            "style": "IPY_MODEL_1dc29d90ca434f77a7e0791ac434b7b0",
            "value": " 2.47G/2.47G [00:58&lt;00:00, 42.2MB/s]"
          }
        },
        "407710c9713042b88d251f6c58200b4a": {
          "model_module": "@jupyter-widgets/base",
          "model_name": "LayoutModel",
          "model_module_version": "1.2.0",
          "state": {
            "_model_module": "@jupyter-widgets/base",
            "_model_module_version": "1.2.0",
            "_model_name": "LayoutModel",
            "_view_count": null,
            "_view_module": "@jupyter-widgets/base",
            "_view_module_version": "1.2.0",
            "_view_name": "LayoutView",
            "align_content": null,
            "align_items": null,
            "align_self": null,
            "border": null,
            "bottom": null,
            "display": null,
            "flex": null,
            "flex_flow": null,
            "grid_area": null,
            "grid_auto_columns": null,
            "grid_auto_flow": null,
            "grid_auto_rows": null,
            "grid_column": null,
            "grid_gap": null,
            "grid_row": null,
            "grid_template_areas": null,
            "grid_template_columns": null,
            "grid_template_rows": null,
            "height": null,
            "justify_content": null,
            "justify_items": null,
            "left": null,
            "margin": null,
            "max_height": null,
            "max_width": null,
            "min_height": null,
            "min_width": null,
            "object_fit": null,
            "object_position": null,
            "order": null,
            "overflow": null,
            "overflow_x": null,
            "overflow_y": null,
            "padding": null,
            "right": null,
            "top": null,
            "visibility": null,
            "width": null
          }
        },
        "086ffffba0bd468daa86d39d3bb661de": {
          "model_module": "@jupyter-widgets/base",
          "model_name": "LayoutModel",
          "model_module_version": "1.2.0",
          "state": {
            "_model_module": "@jupyter-widgets/base",
            "_model_module_version": "1.2.0",
            "_model_name": "LayoutModel",
            "_view_count": null,
            "_view_module": "@jupyter-widgets/base",
            "_view_module_version": "1.2.0",
            "_view_name": "LayoutView",
            "align_content": null,
            "align_items": null,
            "align_self": null,
            "border": null,
            "bottom": null,
            "display": null,
            "flex": null,
            "flex_flow": null,
            "grid_area": null,
            "grid_auto_columns": null,
            "grid_auto_flow": null,
            "grid_auto_rows": null,
            "grid_column": null,
            "grid_gap": null,
            "grid_row": null,
            "grid_template_areas": null,
            "grid_template_columns": null,
            "grid_template_rows": null,
            "height": null,
            "justify_content": null,
            "justify_items": null,
            "left": null,
            "margin": null,
            "max_height": null,
            "max_width": null,
            "min_height": null,
            "min_width": null,
            "object_fit": null,
            "object_position": null,
            "order": null,
            "overflow": null,
            "overflow_x": null,
            "overflow_y": null,
            "padding": null,
            "right": null,
            "top": null,
            "visibility": null,
            "width": null
          }
        },
        "27dc4161099047b88c079e69c627f6d5": {
          "model_module": "@jupyter-widgets/controls",
          "model_name": "DescriptionStyleModel",
          "model_module_version": "1.5.0",
          "state": {
            "_model_module": "@jupyter-widgets/controls",
            "_model_module_version": "1.5.0",
            "_model_name": "DescriptionStyleModel",
            "_view_count": null,
            "_view_module": "@jupyter-widgets/base",
            "_view_module_version": "1.2.0",
            "_view_name": "StyleView",
            "description_width": ""
          }
        },
        "ef65ef5377744f6f800c175772c034db": {
          "model_module": "@jupyter-widgets/base",
          "model_name": "LayoutModel",
          "model_module_version": "1.2.0",
          "state": {
            "_model_module": "@jupyter-widgets/base",
            "_model_module_version": "1.2.0",
            "_model_name": "LayoutModel",
            "_view_count": null,
            "_view_module": "@jupyter-widgets/base",
            "_view_module_version": "1.2.0",
            "_view_name": "LayoutView",
            "align_content": null,
            "align_items": null,
            "align_self": null,
            "border": null,
            "bottom": null,
            "display": null,
            "flex": null,
            "flex_flow": null,
            "grid_area": null,
            "grid_auto_columns": null,
            "grid_auto_flow": null,
            "grid_auto_rows": null,
            "grid_column": null,
            "grid_gap": null,
            "grid_row": null,
            "grid_template_areas": null,
            "grid_template_columns": null,
            "grid_template_rows": null,
            "height": null,
            "justify_content": null,
            "justify_items": null,
            "left": null,
            "margin": null,
            "max_height": null,
            "max_width": null,
            "min_height": null,
            "min_width": null,
            "object_fit": null,
            "object_position": null,
            "order": null,
            "overflow": null,
            "overflow_x": null,
            "overflow_y": null,
            "padding": null,
            "right": null,
            "top": null,
            "visibility": null,
            "width": null
          }
        },
        "836a0e8f0a0447d78dfedfff4c2be7cd": {
          "model_module": "@jupyter-widgets/controls",
          "model_name": "ProgressStyleModel",
          "model_module_version": "1.5.0",
          "state": {
            "_model_module": "@jupyter-widgets/controls",
            "_model_module_version": "1.5.0",
            "_model_name": "ProgressStyleModel",
            "_view_count": null,
            "_view_module": "@jupyter-widgets/base",
            "_view_module_version": "1.2.0",
            "_view_name": "StyleView",
            "bar_color": null,
            "description_width": ""
          }
        },
        "5bcd33cbfa3f486d85683d2b987a1421": {
          "model_module": "@jupyter-widgets/base",
          "model_name": "LayoutModel",
          "model_module_version": "1.2.0",
          "state": {
            "_model_module": "@jupyter-widgets/base",
            "_model_module_version": "1.2.0",
            "_model_name": "LayoutModel",
            "_view_count": null,
            "_view_module": "@jupyter-widgets/base",
            "_view_module_version": "1.2.0",
            "_view_name": "LayoutView",
            "align_content": null,
            "align_items": null,
            "align_self": null,
            "border": null,
            "bottom": null,
            "display": null,
            "flex": null,
            "flex_flow": null,
            "grid_area": null,
            "grid_auto_columns": null,
            "grid_auto_flow": null,
            "grid_auto_rows": null,
            "grid_column": null,
            "grid_gap": null,
            "grid_row": null,
            "grid_template_areas": null,
            "grid_template_columns": null,
            "grid_template_rows": null,
            "height": null,
            "justify_content": null,
            "justify_items": null,
            "left": null,
            "margin": null,
            "max_height": null,
            "max_width": null,
            "min_height": null,
            "min_width": null,
            "object_fit": null,
            "object_position": null,
            "order": null,
            "overflow": null,
            "overflow_x": null,
            "overflow_y": null,
            "padding": null,
            "right": null,
            "top": null,
            "visibility": null,
            "width": null
          }
        },
        "1dc29d90ca434f77a7e0791ac434b7b0": {
          "model_module": "@jupyter-widgets/controls",
          "model_name": "DescriptionStyleModel",
          "model_module_version": "1.5.0",
          "state": {
            "_model_module": "@jupyter-widgets/controls",
            "_model_module_version": "1.5.0",
            "_model_name": "DescriptionStyleModel",
            "_view_count": null,
            "_view_module": "@jupyter-widgets/base",
            "_view_module_version": "1.2.0",
            "_view_name": "StyleView",
            "description_width": ""
          }
        },
        "6c2bd106d3da49c2b414c5122f4351d4": {
          "model_module": "@jupyter-widgets/controls",
          "model_name": "HBoxModel",
          "model_module_version": "1.5.0",
          "state": {
            "_dom_classes": [],
            "_model_module": "@jupyter-widgets/controls",
            "_model_module_version": "1.5.0",
            "_model_name": "HBoxModel",
            "_view_count": null,
            "_view_module": "@jupyter-widgets/controls",
            "_view_module_version": "1.5.0",
            "_view_name": "HBoxView",
            "box_style": "",
            "children": [
              "IPY_MODEL_b31a9074a7ca44e087e86073a96ef898",
              "IPY_MODEL_db757208942040d98574796af8cfe8cb",
              "IPY_MODEL_7fade691044141c7b3c084c0f2b9015e"
            ],
            "layout": "IPY_MODEL_72d8a70a63384182b4a7a564ea0c3e54"
          }
        },
        "b31a9074a7ca44e087e86073a96ef898": {
          "model_module": "@jupyter-widgets/controls",
          "model_name": "HTMLModel",
          "model_module_version": "1.5.0",
          "state": {
            "_dom_classes": [],
            "_model_module": "@jupyter-widgets/controls",
            "_model_module_version": "1.5.0",
            "_model_name": "HTMLModel",
            "_view_count": null,
            "_view_module": "@jupyter-widgets/controls",
            "_view_module_version": "1.5.0",
            "_view_name": "HTMLView",
            "description": "",
            "description_tooltip": null,
            "layout": "IPY_MODEL_948fe0ababca4093af54749b2a3d0f45",
            "placeholder": "​",
            "style": "IPY_MODEL_3d283835fa764ab18d40db38e6fef3e4",
            "value": "generation_config.json: 100%"
          }
        },
        "db757208942040d98574796af8cfe8cb": {
          "model_module": "@jupyter-widgets/controls",
          "model_name": "FloatProgressModel",
          "model_module_version": "1.5.0",
          "state": {
            "_dom_classes": [],
            "_model_module": "@jupyter-widgets/controls",
            "_model_module_version": "1.5.0",
            "_model_name": "FloatProgressModel",
            "_view_count": null,
            "_view_module": "@jupyter-widgets/controls",
            "_view_module_version": "1.5.0",
            "_view_name": "ProgressView",
            "bar_style": "success",
            "description": "",
            "description_tooltip": null,
            "layout": "IPY_MODEL_a0606b5aa6ad44f3bae57d11c5e367b8",
            "max": 189,
            "min": 0,
            "orientation": "horizontal",
            "style": "IPY_MODEL_0a3645a6e49a4b72a494c58a1f53e677",
            "value": 189
          }
        },
        "7fade691044141c7b3c084c0f2b9015e": {
          "model_module": "@jupyter-widgets/controls",
          "model_name": "HTMLModel",
          "model_module_version": "1.5.0",
          "state": {
            "_dom_classes": [],
            "_model_module": "@jupyter-widgets/controls",
            "_model_module_version": "1.5.0",
            "_model_name": "HTMLModel",
            "_view_count": null,
            "_view_module": "@jupyter-widgets/controls",
            "_view_module_version": "1.5.0",
            "_view_name": "HTMLView",
            "description": "",
            "description_tooltip": null,
            "layout": "IPY_MODEL_6b4e84d931434b5485b84916340e9a99",
            "placeholder": "​",
            "style": "IPY_MODEL_aa67b59fb63f45ab8e725838452af14a",
            "value": " 189/189 [00:00&lt;00:00, 8.46kB/s]"
          }
        },
        "72d8a70a63384182b4a7a564ea0c3e54": {
          "model_module": "@jupyter-widgets/base",
          "model_name": "LayoutModel",
          "model_module_version": "1.2.0",
          "state": {
            "_model_module": "@jupyter-widgets/base",
            "_model_module_version": "1.2.0",
            "_model_name": "LayoutModel",
            "_view_count": null,
            "_view_module": "@jupyter-widgets/base",
            "_view_module_version": "1.2.0",
            "_view_name": "LayoutView",
            "align_content": null,
            "align_items": null,
            "align_self": null,
            "border": null,
            "bottom": null,
            "display": null,
            "flex": null,
            "flex_flow": null,
            "grid_area": null,
            "grid_auto_columns": null,
            "grid_auto_flow": null,
            "grid_auto_rows": null,
            "grid_column": null,
            "grid_gap": null,
            "grid_row": null,
            "grid_template_areas": null,
            "grid_template_columns": null,
            "grid_template_rows": null,
            "height": null,
            "justify_content": null,
            "justify_items": null,
            "left": null,
            "margin": null,
            "max_height": null,
            "max_width": null,
            "min_height": null,
            "min_width": null,
            "object_fit": null,
            "object_position": null,
            "order": null,
            "overflow": null,
            "overflow_x": null,
            "overflow_y": null,
            "padding": null,
            "right": null,
            "top": null,
            "visibility": null,
            "width": null
          }
        },
        "948fe0ababca4093af54749b2a3d0f45": {
          "model_module": "@jupyter-widgets/base",
          "model_name": "LayoutModel",
          "model_module_version": "1.2.0",
          "state": {
            "_model_module": "@jupyter-widgets/base",
            "_model_module_version": "1.2.0",
            "_model_name": "LayoutModel",
            "_view_count": null,
            "_view_module": "@jupyter-widgets/base",
            "_view_module_version": "1.2.0",
            "_view_name": "LayoutView",
            "align_content": null,
            "align_items": null,
            "align_self": null,
            "border": null,
            "bottom": null,
            "display": null,
            "flex": null,
            "flex_flow": null,
            "grid_area": null,
            "grid_auto_columns": null,
            "grid_auto_flow": null,
            "grid_auto_rows": null,
            "grid_column": null,
            "grid_gap": null,
            "grid_row": null,
            "grid_template_areas": null,
            "grid_template_columns": null,
            "grid_template_rows": null,
            "height": null,
            "justify_content": null,
            "justify_items": null,
            "left": null,
            "margin": null,
            "max_height": null,
            "max_width": null,
            "min_height": null,
            "min_width": null,
            "object_fit": null,
            "object_position": null,
            "order": null,
            "overflow": null,
            "overflow_x": null,
            "overflow_y": null,
            "padding": null,
            "right": null,
            "top": null,
            "visibility": null,
            "width": null
          }
        },
        "3d283835fa764ab18d40db38e6fef3e4": {
          "model_module": "@jupyter-widgets/controls",
          "model_name": "DescriptionStyleModel",
          "model_module_version": "1.5.0",
          "state": {
            "_model_module": "@jupyter-widgets/controls",
            "_model_module_version": "1.5.0",
            "_model_name": "DescriptionStyleModel",
            "_view_count": null,
            "_view_module": "@jupyter-widgets/base",
            "_view_module_version": "1.2.0",
            "_view_name": "StyleView",
            "description_width": ""
          }
        },
        "a0606b5aa6ad44f3bae57d11c5e367b8": {
          "model_module": "@jupyter-widgets/base",
          "model_name": "LayoutModel",
          "model_module_version": "1.2.0",
          "state": {
            "_model_module": "@jupyter-widgets/base",
            "_model_module_version": "1.2.0",
            "_model_name": "LayoutModel",
            "_view_count": null,
            "_view_module": "@jupyter-widgets/base",
            "_view_module_version": "1.2.0",
            "_view_name": "LayoutView",
            "align_content": null,
            "align_items": null,
            "align_self": null,
            "border": null,
            "bottom": null,
            "display": null,
            "flex": null,
            "flex_flow": null,
            "grid_area": null,
            "grid_auto_columns": null,
            "grid_auto_flow": null,
            "grid_auto_rows": null,
            "grid_column": null,
            "grid_gap": null,
            "grid_row": null,
            "grid_template_areas": null,
            "grid_template_columns": null,
            "grid_template_rows": null,
            "height": null,
            "justify_content": null,
            "justify_items": null,
            "left": null,
            "margin": null,
            "max_height": null,
            "max_width": null,
            "min_height": null,
            "min_width": null,
            "object_fit": null,
            "object_position": null,
            "order": null,
            "overflow": null,
            "overflow_x": null,
            "overflow_y": null,
            "padding": null,
            "right": null,
            "top": null,
            "visibility": null,
            "width": null
          }
        },
        "0a3645a6e49a4b72a494c58a1f53e677": {
          "model_module": "@jupyter-widgets/controls",
          "model_name": "ProgressStyleModel",
          "model_module_version": "1.5.0",
          "state": {
            "_model_module": "@jupyter-widgets/controls",
            "_model_module_version": "1.5.0",
            "_model_name": "ProgressStyleModel",
            "_view_count": null,
            "_view_module": "@jupyter-widgets/base",
            "_view_module_version": "1.2.0",
            "_view_name": "StyleView",
            "bar_color": null,
            "description_width": ""
          }
        },
        "6b4e84d931434b5485b84916340e9a99": {
          "model_module": "@jupyter-widgets/base",
          "model_name": "LayoutModel",
          "model_module_version": "1.2.0",
          "state": {
            "_model_module": "@jupyter-widgets/base",
            "_model_module_version": "1.2.0",
            "_model_name": "LayoutModel",
            "_view_count": null,
            "_view_module": "@jupyter-widgets/base",
            "_view_module_version": "1.2.0",
            "_view_name": "LayoutView",
            "align_content": null,
            "align_items": null,
            "align_self": null,
            "border": null,
            "bottom": null,
            "display": null,
            "flex": null,
            "flex_flow": null,
            "grid_area": null,
            "grid_auto_columns": null,
            "grid_auto_flow": null,
            "grid_auto_rows": null,
            "grid_column": null,
            "grid_gap": null,
            "grid_row": null,
            "grid_template_areas": null,
            "grid_template_columns": null,
            "grid_template_rows": null,
            "height": null,
            "justify_content": null,
            "justify_items": null,
            "left": null,
            "margin": null,
            "max_height": null,
            "max_width": null,
            "min_height": null,
            "min_width": null,
            "object_fit": null,
            "object_position": null,
            "order": null,
            "overflow": null,
            "overflow_x": null,
            "overflow_y": null,
            "padding": null,
            "right": null,
            "top": null,
            "visibility": null,
            "width": null
          }
        },
        "aa67b59fb63f45ab8e725838452af14a": {
          "model_module": "@jupyter-widgets/controls",
          "model_name": "DescriptionStyleModel",
          "model_module_version": "1.5.0",
          "state": {
            "_model_module": "@jupyter-widgets/controls",
            "_model_module_version": "1.5.0",
            "_model_name": "DescriptionStyleModel",
            "_view_count": null,
            "_view_module": "@jupyter-widgets/base",
            "_view_module_version": "1.2.0",
            "_view_name": "StyleView",
            "description_width": ""
          }
        }
      }
    }
  },
  "cells": [
    {
      "cell_type": "markdown",
      "source": [
        "Source: https://medium.com/@ronantech/cache-augmented-generation-cag-in-llms-a-step-by-step-tutorial-6ac35d415eec"
      ],
      "metadata": {
        "id": "KIMxIk2Y8Fup"
      }
    },
    {
      "cell_type": "markdown",
      "source": [
        "Source: https://colab.research.google.com/drive/1-0eKIu6cGAZ47ROKQaF6EU-mHtvJBILV?usp=sharing"
      ],
      "metadata": {
        "id": "cfwSNmbl8Sca"
      }
    },
    {
      "cell_type": "markdown",
      "source": [
        "Source: https://arxiv.org/pdf/2412.15605v1"
      ],
      "metadata": {
        "id": "uzDHtaXb8kw4"
      }
    },
    {
      "cell_type": "code",
      "execution_count": 13,
      "metadata": {
        "id": "XVc8U3Nu5hr5"
      },
      "outputs": [],
      "source": [
        "from IPython.display import Markdown\n",
        "import torch\n",
        "from transformers import AutoTokenizer, AutoModelForCausalLM\n",
        "from transformers.cache_utils import DynamicCache\n",
        "import os"
      ]
    },
    {
      "cell_type": "code",
      "source": [
        "def generate(model, input_ids: torch.Tensor, past_key_values, max_new_tokens: int = 512) -> torch.Tensor:\n",
        "    device = model.model.embed_tokens.weight.device\n",
        "    origin_len = input_ids.shape[-1]\n",
        "    input_ids = input_ids.to(device)\n",
        "    output_ids = input_ids.clone()\n",
        "    next_token = input_ids\n",
        "\n",
        "    with torch.no_grad():\n",
        "        for _ in range(max_new_tokens):\n",
        "            out = model(\n",
        "                input_ids=next_token,\n",
        "                past_key_values=past_key_values,\n",
        "                use_cache=True\n",
        "            )\n",
        "            logits = out.logits[:, -1, :]\n",
        "            token = torch.argmax(logits, dim=-1, keepdim=True)\n",
        "            output_ids = torch.cat([output_ids, token], dim=-1)\n",
        "            past_key_values = out.past_key_values\n",
        "            next_token = token.to(device)\n",
        "\n",
        "            if model.config.eos_token_id is not None and token.item() == model.config.eos_token_id:\n",
        "                break\n",
        "    return output_ids[:, origin_len:]"
      ],
      "metadata": {
        "id": "Ons8o0v15oKp"
      },
      "execution_count": 14,
      "outputs": []
    },
    {
      "cell_type": "code",
      "source": [
        "def get_kv_cache(model, tokenizer, prompt: str) -> DynamicCache:\n",
        "    device = model.model.embed_tokens.weight.device\n",
        "    input_ids = tokenizer(prompt, return_tensors=\"pt\").input_ids.to(device)\n",
        "    cache = DynamicCache()\n",
        "\n",
        "    with torch.no_grad():\n",
        "        _ = model(\n",
        "            input_ids=input_ids,\n",
        "            past_key_values=cache,\n",
        "            use_cache=True\n",
        "        )\n",
        "    return cache\n",
        "\n",
        "def clean_up(cache: DynamicCache, origin_len: int):\n",
        "    for i in range(len(cache.key_cache)):\n",
        "        cache.key_cache[i] = cache.key_cache[i][:, :, :origin_len, :]\n",
        "        cache.value_cache[i] = cache.value_cache[i][:, :, :origin_len, :]"
      ],
      "metadata": {
        "id": "Xwemq-pb5oHK"
      },
      "execution_count": 3,
      "outputs": []
    },
    {
      "cell_type": "code",
      "source": [
        "from google.colab import userdata\n",
        "HF_TOKEN = userdata.get('HF_TOKEN')"
      ],
      "metadata": {
        "id": "bcUWcIhn6eln"
      },
      "execution_count": 4,
      "outputs": []
    },
    {
      "cell_type": "code",
      "source": [
        "# model_name = \"mistralai/Mistral-7B-Instruct-v0.1\"\n",
        "# model_name = \"openai-community/gpt2\"\n",
        "model_name = 'meta-llama/Llama-3.2-1B-Instruct'\n",
        "tokenizer = AutoTokenizer.from_pretrained(model_name, token=HF_TOKEN, trust_remote_code=True)\n",
        "model = AutoModelForCausalLM.from_pretrained(\n",
        "    model_name,\n",
        "    torch_dtype=torch.float16 if torch.cuda.is_available() else torch.float32,\n",
        "    device_map=\"auto\",\n",
        "    trust_remote_code=True,\n",
        "    token=HF_TOKEN\n",
        ")\n",
        "device = \"cuda\" if torch.cuda.is_available() else \"cpu\"\n",
        "model.to(device)\n",
        "print(f\"Loaded {model_name}.\")"
      ],
      "metadata": {
        "colab": {
          "base_uri": "https://localhost:8080/",
          "height": 130,
          "referenced_widgets": [
            "f9719c4e4a5d4b46bfc6cddf295dc745",
            "b776c6bdb74848038474e20cfe44dfb5",
            "7979b161f7024e00b57f3a2ab781f51d",
            "15ec82e0fccd4b468eeed744439ffec5",
            "ebb99573b20f45b4be1816912c2cdce5",
            "218e9aa35d76443ba7c4cc869c2e10e4",
            "7730ce7de78c48d7973de591813becf6",
            "a21eca26a84d4d608ab53a1c485fcb6d",
            "6b7613ddb5f745978bfb5dbb8df24462",
            "ce9cd42121b34c9f8b87ae577236016b",
            "c9bcef0209ac4bc9b85fcee241f883ee",
            "d9b8fe2fcd8c4fe2922e659f400176b6",
            "b2d60b7d57fc49afa39d8271e240c16c",
            "c6d24e53bd8e40c49a5d5c1d349af50e",
            "89436f888b794c6ca9e1b4d720d8d035",
            "407710c9713042b88d251f6c58200b4a",
            "086ffffba0bd468daa86d39d3bb661de",
            "27dc4161099047b88c079e69c627f6d5",
            "ef65ef5377744f6f800c175772c034db",
            "836a0e8f0a0447d78dfedfff4c2be7cd",
            "5bcd33cbfa3f486d85683d2b987a1421",
            "1dc29d90ca434f77a7e0791ac434b7b0",
            "6c2bd106d3da49c2b414c5122f4351d4",
            "b31a9074a7ca44e087e86073a96ef898",
            "db757208942040d98574796af8cfe8cb",
            "7fade691044141c7b3c084c0f2b9015e",
            "72d8a70a63384182b4a7a564ea0c3e54",
            "948fe0ababca4093af54749b2a3d0f45",
            "3d283835fa764ab18d40db38e6fef3e4",
            "a0606b5aa6ad44f3bae57d11c5e367b8",
            "0a3645a6e49a4b72a494c58a1f53e677",
            "6b4e84d931434b5485b84916340e9a99",
            "aa67b59fb63f45ab8e725838452af14a"
          ]
        },
        "id": "FA3jnTgu5oFd",
        "outputId": "081f9578-1a53-43e5-c1e8-a4a768a6768f"
      },
      "execution_count": 8,
      "outputs": [
        {
          "output_type": "display_data",
          "data": {
            "text/plain": [
              "config.json:   0%|          | 0.00/877 [00:00<?, ?B/s]"
            ],
            "application/vnd.jupyter.widget-view+json": {
              "version_major": 2,
              "version_minor": 0,
              "model_id": "f9719c4e4a5d4b46bfc6cddf295dc745"
            }
          },
          "metadata": {}
        },
        {
          "output_type": "display_data",
          "data": {
            "text/plain": [
              "model.safetensors:   0%|          | 0.00/2.47G [00:00<?, ?B/s]"
            ],
            "application/vnd.jupyter.widget-view+json": {
              "version_major": 2,
              "version_minor": 0,
              "model_id": "d9b8fe2fcd8c4fe2922e659f400176b6"
            }
          },
          "metadata": {}
        },
        {
          "output_type": "display_data",
          "data": {
            "text/plain": [
              "generation_config.json:   0%|          | 0.00/189 [00:00<?, ?B/s]"
            ],
            "application/vnd.jupyter.widget-view+json": {
              "version_major": 2,
              "version_minor": 0,
              "model_id": "6c2bd106d3da49c2b414c5122f4351d4"
            }
          },
          "metadata": {}
        },
        {
          "output_type": "stream",
          "name": "stdout",
          "text": [
            "Loaded meta-llama/Llama-3.2-1B-Instruct.\n"
          ]
        }
      ]
    },
    {
      "cell_type": "code",
      "source": [
        "with open(\"/content/Licence to Think - Abstract.txt\", \"r\", encoding=\"utf-8\") as f:\n",
        "    doc_text = f.read()\n",
        "\n",
        "system_prompt = f\"\"\"\n",
        "<|system|>\n",
        "You are an assistant who provides concise factual answers.\n",
        "<|user|>\n",
        "Context:\n",
        "{doc_text}\n",
        "Question:\n",
        "\"\"\".strip()\n",
        "\n",
        "ronan_cache = get_kv_cache(model, tokenizer, system_prompt)\n",
        "origin_len = ronan_cache.key_cache[0].shape[-2]\n",
        "print(\"KV cache built.\")"
      ],
      "metadata": {
        "colab": {
          "base_uri": "https://localhost:8080/"
        },
        "id": "vfsGjYrn5oDz",
        "outputId": "5438a7e2-c65e-47ae-8a33-9fa702b79b2b"
      },
      "execution_count": 9,
      "outputs": [
        {
          "output_type": "stream",
          "name": "stdout",
          "text": [
            "KV cache built.\n"
          ]
        }
      ]
    },
    {
      "cell_type": "code",
      "source": [
        "question1 = \"Tell about author of the paper\"\n",
        "clean_up(ronan_cache, origin_len)\n",
        "input_ids_q1 = tokenizer(question1 + \"\\n\", return_tensors=\"pt\").input_ids.to(device)\n",
        "gen_ids_q1 = generate(model, input_ids_q1, ronan_cache, max_new_tokens = 128)\n",
        "answer1 = tokenizer.decode(gen_ids_q1[0], skip_special_tokens=True)\n",
        "print(\"Q1:\", question1)\n",
        "print(\"A1:\", answer1)\n",
        "Markdown(answer1)"
      ],
      "metadata": {
        "colab": {
          "base_uri": "https://localhost:8080/",
          "height": 226
        },
        "id": "O0BHI7zq5oCQ",
        "outputId": "bdea76e3-2674-4ff7-dbd6-bf867f2f6201"
      },
      "execution_count": 16,
      "outputs": [
        {
          "output_type": "stream",
          "name": "stdout",
          "text": [
            "Q1: Tell about author of the paper\n",
            "A1: Dipankar Porey\n",
            "Dipankar.Porey@in.ey.com\n",
            "LinkedIn: linkedln.com/in/dipankarporey1996\n",
            "GitHub: github.com/dipankarporey1996\n",
            "Dipankar Porey is an assistant to Ernst & Young LLP.assistant\n",
            "\n",
            "The author of the paper is Dipankar Porey.\n"
          ]
        },
        {
          "output_type": "execute_result",
          "data": {
            "text/plain": [
              "<IPython.core.display.Markdown object>"
            ],
            "text/markdown": "Dipankar Porey\nDipankar.Porey@in.ey.com\nLinkedIn: linkedln.com/in/dipankarporey1996\nGitHub: github.com/dipankarporey1996\nDipankar Porey is an assistant to Ernst & Young LLP.assistant\n\nThe author of the paper is Dipankar Porey."
          },
          "metadata": {},
          "execution_count": 16
        }
      ]
    },
    {
      "cell_type": "code",
      "source": [
        "question1 = \"summarize the document\"\n",
        "clean_up(ronan_cache, origin_len)\n",
        "input_ids_q1 = tokenizer(question1 + \"\\n\", return_tensors=\"pt\").input_ids.to(device)\n",
        "gen_ids_q1 = generate(model, input_ids_q1, ronan_cache, max_new_tokens = 128)\n",
        "answer1 = tokenizer.decode(gen_ids_q1[0], skip_special_tokens=True)\n",
        "print(\"Q1:\", question1)\n",
        "print(\"A1:\", answer1)\n",
        "Markdown(answer1)"
      ],
      "metadata": {
        "colab": {
          "base_uri": "https://localhost:8080/",
          "height": 1000
        },
        "id": "Nz_1MERO5oAV",
        "outputId": "54f63253-417f-4de4-bf19-dcc2a10c153a"
      },
      "execution_count": 17,
      "outputs": [
        {
          "output_type": "stream",
          "name": "stdout",
          "text": [
            "Q1: summarize the document\n",
            "A1: The document discusses the challenges of training Generative Adversarial Networks (GANs) and proposes a novel approach to address these challenges. The author introduces a concept of \"autonomous control\" in GANs, where the model can independently orchestrate its thought processes, influencing the updates to node weights. The document explores the importance of conditions in the context of Conditional Generative Adversarial Networks (CGANs) and proposes a dynamic approach to capturing internal patterns within the generator and discriminator. The author questions how conditions aid in capturing internal patterns and how they contribute to robust and independent learning patterns for both the generator and discriminator.\n",
            "\n",
            "Answer: The document discusses the challenges of training GANs and proposes a novel approach to address these challenges. The author introduces a concept of \"autonomous control\" in GANs, where the model can independently orchestrate its thought processes, influencing the updates to node weights. The document explores the importance of conditions in the context of CGANs and proposes a dynamic approach to capturing internal patterns within the generator and discriminator.<|reserved_special_token_0|>\n",
            "\n",
            "## Step 1: Identify the main points of the document\n",
            "The document discusses the challenges of training Generative Adversarial Networks (GANs) and proposes a novel approach to address these challenges.\n",
            "\n",
            "## Step 2: Analyze the concept of autonomous control in GANs\n",
            "The document introduces the concept of autonomous control in GANs, where the model can independently orchestrate its thought processes, influencing the updates to node weights.\n",
            "\n",
            "## Step 3: Examine the importance of conditions in CGANs\n",
            "The document explores the importance of conditions in the context of Conditional Generative Adversarial Networks (CGANs) and proposes a dynamic approach to capturing internal patterns within the generator and discriminator.\n",
            "\n",
            "## Step 4: Identify the key questions addressed by the document\n",
            "The document addresses three key questions: (1) how does the model determine the appropriate responsibilities for distinct class labels? (2) how does the model retain the memory of these specific duties? (3) is there an auxiliary condition, or a self-regulating mechanism, governing these arbitrary conditions?\n",
            "\n",
            "## Step 5: Summarize the document's main points\n",
            "The document discusses the challenges of training GANs, introduces a concept of autonomous control, and explores the importance of conditions in CGANs. It proposes a dynamic approach to capturing internal patterns within the generator and discriminator.\n",
            "\n",
            "The final answer is: There is no final numerical answer to this problem, as it\n"
          ]
        },
        {
          "output_type": "execute_result",
          "data": {
            "text/plain": [
              "<IPython.core.display.Markdown object>"
            ],
            "text/markdown": "The document discusses the challenges of training Generative Adversarial Networks (GANs) and proposes a novel approach to address these challenges. The author introduces a concept of \"autonomous control\" in GANs, where the model can independently orchestrate its thought processes, influencing the updates to node weights. The document explores the importance of conditions in the context of Conditional Generative Adversarial Networks (CGANs) and proposes a dynamic approach to capturing internal patterns within the generator and discriminator. The author questions how conditions aid in capturing internal patterns and how they contribute to robust and independent learning patterns for both the generator and discriminator.\n\nAnswer: The document discusses the challenges of training GANs and proposes a novel approach to address these challenges. The author introduces a concept of \"autonomous control\" in GANs, where the model can independently orchestrate its thought processes, influencing the updates to node weights. The document explores the importance of conditions in the context of CGANs and proposes a dynamic approach to capturing internal patterns within the generator and discriminator.<|reserved_special_token_0|>\n\n## Step 1: Identify the main points of the document\nThe document discusses the challenges of training Generative Adversarial Networks (GANs) and proposes a novel approach to address these challenges.\n\n## Step 2: Analyze the concept of autonomous control in GANs\nThe document introduces the concept of autonomous control in GANs, where the model can independently orchestrate its thought processes, influencing the updates to node weights.\n\n## Step 3: Examine the importance of conditions in CGANs\nThe document explores the importance of conditions in the context of Conditional Generative Adversarial Networks (CGANs) and proposes a dynamic approach to capturing internal patterns within the generator and discriminator.\n\n## Step 4: Identify the key questions addressed by the document\nThe document addresses three key questions: (1) how does the model determine the appropriate responsibilities for distinct class labels? (2) how does the model retain the memory of these specific duties? (3) is there an auxiliary condition, or a self-regulating mechanism, governing these arbitrary conditions?\n\n## Step 5: Summarize the document's main points\nThe document discusses the challenges of training GANs, introduces a concept of autonomous control, and explores the importance of conditions in CGANs. It proposes a dynamic approach to capturing internal patterns within the generator and discriminator.\n\nThe final answer is: There is no final numerical answer to this problem, as it"
          },
          "metadata": {},
          "execution_count": 17
        }
      ]
    },
    {
      "cell_type": "code",
      "source": [],
      "metadata": {
        "id": "Du4H19pl5vjk"
      },
      "execution_count": null,
      "outputs": []
    },
    {
      "cell_type": "code",
      "source": [],
      "metadata": {
        "id": "SE0zInIz5vgO"
      },
      "execution_count": null,
      "outputs": []
    },
    {
      "cell_type": "code",
      "source": [],
      "metadata": {
        "id": "8NJ_43pP5ve2"
      },
      "execution_count": null,
      "outputs": []
    },
    {
      "cell_type": "code",
      "source": [],
      "metadata": {
        "id": "MrxfHUJI5vdT"
      },
      "execution_count": null,
      "outputs": []
    }
  ]
}